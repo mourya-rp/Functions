{
  "nbformat": 4,
  "nbformat_minor": 0,
  "metadata": {
    "colab": {
      "provenance": []
    },
    "kernelspec": {
      "name": "python3",
      "display_name": "Python 3"
    },
    "language_info": {
      "name": "python"
    }
  },
  "cells": [
    {
      "cell_type": "markdown",
      "source": [
        "#Functions\n",
        "\n",
        "1 . what is the difference between a function and method in python ?\n",
        "\n",
        "In Python, both functions and methods are blocks of reusable code designed to perform specific tasks, but their key difference lies in their association with classes and objects.\n",
        "\n",
        "Function:\n",
        "A function is a standalone block of code that is defined independently and can be called anywhere in your program.\n",
        "It does not belong to any specific class or object.\n",
        "Functions typically operate on data passed to them as arguments and may or may not return a value.\n",
        "\n",
        "Method:\n",
        "A method is a function that is defined within a class.\n",
        "It is inherently associated with the objects (instances) of that class.\n",
        "Methods are designed to operate on the data (attributes) of the object they belong to and can access or modify those attributes.\n",
        "When a method is called, it is invoked on an instance of the class, and the instance itself is implicitly passed as the first argument (conventionally named self).\n",
        "\n",
        "In summary:\n",
        "Functions: are independent and operate globally or within a module.\n",
        "Methods: are tied to classes and objects, enabling object-oriented programming by defining behavior specific to those objects.\n",
        "\n",
        "2 . explain the concept of function arguments and parameters in python\n",
        "\n",
        "In Python, the terms \"parameters\" and \"arguments\" are distinct concepts related to functions:\n",
        "Parameters:\n",
        "Parameters are variables defined within the parentheses of a function's definition. They act as placeholders for the values that the function expects to receive when it is called. Parameters define the type and number of inputs a function can accept.\n",
        "\n",
        "Python\n",
        "\n",
        "def greet(name):  # 'name' is a parameter\n",
        "    print(f\"Hello, {name}!\")\n",
        "Arguments:\n",
        "Arguments are the actual values that are passed to a function when it is called. These values are assigned to the corresponding parameters within the function's scope during execution. Arguments provide the specific data that the function will operate on.\n",
        "\n",
        "Python\n",
        "\n",
        "greet(\"Alice\")  # \"Alice\" is an argument\n",
        "Key Distinctions:\n",
        "Definition vs. Call:\n",
        "Parameters are part of the function's definition, while arguments are used during the function's call.\n",
        "Placeholder vs. Value:\n",
        "Parameters are placeholders or variables, whereas arguments are the concrete values that fill those placeholders.\n",
        "Scope:\n",
        "Parameters are local to the function where they are defined. Arguments can originate from any scope, including variables outside the function or literal values.\n",
        "\n",
        "Example:\n",
        "Python\n",
        "\n",
        "def add_numbers(num1, num2):  # num1 and num2 are parameters\n",
        "    result = num1 + num2\n",
        "    print(f\"The sum is: {result}\")\n",
        "\n",
        "add_numbers(10, 5)  # 10 and 5 are arguments\n",
        "\n",
        "In this example, num1 and num2 are parameters defined in the add_numbers function. When add_numbers(10, 5) is called, 10 is passed as an argument to num1, and 5 is passed as an argument to num2.\n",
        "\n",
        "3 .what are the different ways to define and call a function\n",
        "\n",
        "Functions are defined using a specific syntax (e.g., def in Python) that includes a name, parameters (optional), and a code block. To call a function, you use its name followed by parentheses, potentially including arguments within the parentheses. The two primary ways to pass arguments to a function are by value or by reference (or pointer), depending on the programming language and how data is handled.\n",
        "\n",
        "1. Defining a Function:\n",
        "Syntax:\n",
        "Programming languages have specific keywords to define a function. In Python, it's def. The basic structure includes the keyword, the function name, parentheses (), and a colon, followed by an indented block of code.\n",
        "Parameters:\n",
        "Functions can accept input values called parameters, enclosed in parentheses.\n",
        "Code Block:\n",
        "The code to be executed when the function is called is placed within the indented block.\n",
        "Example (Python):\n",
        "\n",
        "Python\n",
        "\n",
        "def greet(name):  # Defining a function named 'greet' with a parameter 'name'\n",
        "    print(\"Hello, \" + name + \"!\")  # Code block: prints a greeting\n",
        "\n",
        "2. Calling a Function:\n",
        "Syntax: To execute the code within a function, you call it by its name followed by parentheses. If the function accepts parameters, you provide the arguments (values) within the parentheses.\n",
        "\n",
        "Example (Python):\n",
        "Python\n",
        "\n",
        "greet(\"Alice\")  # Calling the 'greet' function with the argument \"Alice\"\n",
        "\n",
        "Function Call by Value:\n",
        "When a function is called by value, a copy of the argument's value is passed to the function. Modifications to the parameter within the function do not affect the original variable outside the function.\n",
        "\n",
        "Function Call by Reference (or Pointer):\n",
        "When a function is called by reference (or pointer), the function receives the memory address of the argument. Therefore, modifications to the parameter inside the function will also affect the original variable outside the function\n",
        "\n",
        "\n",
        "4.what is the purpose of return statement in python ?\n",
        "\n",
        "The primary purpose of the return statement in Python is to exit a function and send a value back to the caller.\n",
        "Here's a breakdown of its key functions:\n",
        "\n",
        "Exiting a Function:\n",
        "When a return statement is encountered within a function, the function's execution immediately terminates. Any code written after the return statement within that function will not be executed.\n",
        "\n",
        "Returning a Value:\n",
        "The return statement allows a function to produce a result or output and pass it back to the part of the program that called the function. This returned value can be of any Python data type (e.g., numbers, strings, lists, objects, etc.).\n",
        "\n",
        "Facilitating Data Flow and Reusability:\n",
        "By returning values, functions can act as modular units that perform specific tasks and provide their results for further processing elsewhere in the program. This promotes code reusability and makes programs more organized and maintainable.\n",
        "\n",
        "Implicit None Return:\n",
        "If a function does not explicitly include a return statement, or if the return statement is used without specifying a value (e.g., return), the function implicitly returns the special None value.\n",
        "\n",
        "5 . what are iterators in python and how do they differ from iterables ?\n",
        "\n",
        "In Python, iterators and iterables are fundamental concepts for working with sequences of data.\n",
        "\n",
        "An iterable is an object that can be iterated over, meaning you can loop through its elements one by one. Common examples of iterables include lists, tuples, strings, and dictionaries. An object is considered an iterable if it implements the __iter__() method, which returns an iterator.\n",
        "\n",
        "An iterator is an object that represents a stream of data and is used to iterate over an iterable. It maintains an internal state, keeping track of the current position during iteration. An object is considered an iterator if it implements both the __iter__() method (which returns itself) and the __next__() method. The __next__() method is responsible for returning the next item in the sequence and raising a StopIteration exception when there are no more items.\n",
        "\n",
        "Key Differences:\n",
        "Purpose:\n",
        "An iterable is the container of data that can be traversed, while an iterator is the mechanism that performs the traversal.\n",
        "Methods:\n",
        "An iterable primarily implements __iter__(), while an iterator implements both __iter__() and __next__().\n",
        "\n",
        "State:\n",
        "An iterator maintains an internal state to track its position during iteration, whereas an iterable typically does not.\n",
        "\n",
        "Relationship:\n",
        "All iterators are iterables (because they implement __iter__()), but not all iterables are iterators (e.g., a list is an iterable but not an iterator itself). When you use a for loop on an iterable, Python implicitly calls iter() on it to get an iterator, and then repeatedly calls next() on that iterator.\n",
        "\n",
        "6 . explain the concept of generators in python and how they are defined\n",
        "\n",
        "Generators in Python are a special type of iterable that allow for lazy evaluation, meaning they produce values one at a time as they are requested, rather than generating and storing all values in memory at once. This makes them highly memory-efficient, especially when dealing with large datasets or infinite sequences.\n",
        "\n",
        "How Generators are Defined:\n",
        "Generators are defined similarly to regular functions, but instead of using the return keyword to return a value and terminate the function, they use the yield keyword. generator functions.\n",
        "\n",
        "A function becomes a generator function when it contains at least one yield statement. When a generator function is called, it does not execute its code immediately. Instead, it returns a generator object. This object is an iterator, and its __next__ method (or the next() built-in function) can be called to resume execution and retrieve the next yielded value.\n",
        "\n",
        "7 . what are the advantages of using generators over regular functions\n",
        "\n",
        "Generators offer several advantages over regular functions, particularly when dealing with sequences of data:\n",
        "\n",
        "Memory Efficiency:\n",
        "Generators are memory-efficient because they produce values on demand (lazy evaluation) rather than creating and storing an entire list or sequence in memory at once. This is crucial when working with large datasets or infinite sequences, as it prevents excessive memory consumption.\n",
        "\n",
        "Lazy Evaluation:\n",
        "Values are computed and yielded only when they are explicitly requested, typically during iteration. This means that if only a portion of the sequence is needed, the entire sequence does not need to be generated, leading to performance improvements.\n",
        "\n",
        "Handling Infinite Sequences:\n",
        "Generators can easily represent infinite sequences of data, such as an endless stream of numbers or events, without running into memory limitations, which is impossible with regular functions that return complete data structures.\n",
        "\n",
        "Pipelining and Data Processing:\n",
        "Generators facilitate the creation of data processing pipelines. Multiple generators can be chained together, with each generator performing a specific operation on the data and yielding it to the next stage, creating an efficient and modular processing flow.\n",
        "\n",
        "Code Simplicity and Readability:\n",
        "Generators can simplify the code for creating iterators and managing iterative logic, especially for complex sequences. The yield keyword makes the flow of control and data generation more intuitive and readable compared to manually managing iteration state.\n",
        "\n",
        "Resumable Execution:\n",
        "Unlike regular functions that execute entirely and return a single value, generator functions can pause their execution using yield and resume from where they left off, maintaining their internal state between calls. This allows for more flexible control flow in iterative processes.\n",
        "\n",
        "8. what is a lambda function in python and when is it typically used\n",
        "\n",
        "A lambda function in Python is an anonymous, small function defined using the lambda keyword. Unlike regular functions defined with def, lambda functions are confined to a single expression, and their result is implicitly returned. They are often referred to as anonymous functions because they do not require a name.\n",
        "\n",
        "Syntax:\n",
        "\n",
        "Python\n",
        "\n",
        "lambda arguments: expression\n",
        "\n",
        "When is it typically used?\n",
        "Lambda functions are typically used in scenarios where a small, single-expression function is needed for a short period or as an argument to higher-order functions. Common use cases include:\n",
        "Higher-Order Functions: Lambda functions are frequently used with built-in higher-order functions like map(), filter(), and sorted(). They provide a concise way to define the logic applied to each element of an iterable.\n",
        "Python\n",
        "\n",
        "    # Example with map() to square numbers\n",
        "    numbers = [1, 2, 3, 4]\n",
        "    squared_numbers = list(map(lambda x: x**2, numbers))\n",
        "    print(squared_numbers) # Output: [1, 4, 9, 16]\n",
        "Sorting with Custom Keys: When sorting lists of complex objects, lambda functions can be used as the key argument in sorted() or list.sort() to define a custom sorting criterion.\n",
        "\n",
        "Python\n",
        "\n",
        "    # Example sorting a list of dictionaries by a specific key\n",
        "    data = [{'name': 'Alice', 'age': 30}, {'name': 'Bob', 'age': 25}]\n",
        "    sorted_data = sorted(data, key=lambda item: item['age'])\n",
        "    print(sorted_data)\n",
        "\n",
        "Concise, Inline Operations: For simple, one-off operations where defining a full def function would be overly verbose or unnecessary.\n",
        "In essence, lambda functions offer a compact way to express simple functional logic within a single line, making the code more readable and concise in specific contexts.\n",
        "\n",
        "9. Explain the purpose and usage of map() function in python ?\n",
        "\n",
        "The map() function in Python is a built-in function used to apply a specified function to each item in an iterable (like a list, tuple, or set) and return an iterator containing the results.\n",
        "\n",
        "Purpose:\n",
        "The primary purpose of map() is to efficiently transform data by applying the same operation to every element within an iterable. It offers a concise and often more performant alternative to explicit for loops when you need to perform a uniform transformation across a collection of data. This streamlines code, enhances readability, and can improve efficiency, particularly when dealing with large datasets.\n",
        "\n",
        "Usage:\n",
        "\n",
        "The map() function takes two main arguments:\n",
        "function:\n",
        "The function to be applied to each item of the iterable(s). This can be a named function or a lambda expression for simple, anonymous functions.\n",
        "iterable:\n",
        "One or more iterables whose elements will be passed as arguments to the function.\n",
        "\n",
        "10. what is the difference between map filter and reduce functions in python\n",
        "\n",
        "The map, filter, and reduce functions in Python are higher-order functions used for functional programming paradigms, each serving a distinct purpose in processing iterables:\n",
        "map():\n",
        "Purpose: Applies a given function to each item in an iterable (like a list, tuple, etc.) and returns a new iterable (a map object in Python 3) containing the results.\n",
        "Transformation: It transforms each element individually based on the applied function.\n",
        "Output: The output iterable has the same number of elements as the input iterable.\n",
        "Python\n",
        "\n",
        "    numbers = [1, 2, 3, 4]\n",
        "    squared_numbers = list(map(lambda x: x * x, numbers))\n",
        "    # squared_numbers will be [1, 4, 9, 16]\n",
        "filter():\n",
        "Purpose: Constructs a new iterable from elements of an existing iterable for which a given function returns True. It essentially \"filters out\" elements based on a condition.\n",
        "\n",
        "Selection: It selects elements that satisfy a specific condition.\n",
        "Output: The output iterable (a filter object in Python 3) contains a subset of the original elements, potentially fewer than the input iterable.\n",
        "\n",
        "Python\n",
        "\n",
        "    numbers = [1, 2, 3, 4, 5, 6]\n",
        "    even_numbers = list(filter(lambda x: x % 2 == 0, numbers))\n",
        "    # even_numbers will be [2, 4, 6]\n",
        "\n",
        "reduce():\n",
        "Purpose: Applies a given function cumulatively to the items of an iterable, reducing the iterable to a single value. It performs a \"rolling computation.\"\n",
        "Aggregation: It combines elements to produce a single aggregated result.\n",
        "\n",
        "Output: Returns a single value.\n",
        "Note: In Python 3, reduce() is not a built-in function and must be imported from the functools module (from functools import reduce).\n",
        "Python\n",
        "\n",
        "    from functools import reduce\n",
        "\n",
        "    numbers = [1, 2, 3, 4]\n",
        "    sum_of_numbers = reduce(lambda x, y: x + y, numbers)\n",
        "    # sum_of_numbers will be 10\n",
        "\n",
        "In summary, map transforms elements, filter selects elements, and reduce aggregates elements into a single result.\n",
        "\n",
        "11. write the internal mechanism for sum operation using reduce function on this given list : [ 47 , 11 , 42 , 13 ]\n",
        "\n",
        "-The reduce function, when used for a sum operation on a list like [47, 11, 42, 13], performs a cumulative computation. It iteratively applies a given function (in this case, addition) to the elements of the list, reducing it to a single value.\n",
        "Here's the internal mechanism:\n",
        "\n",
        "Initialization: The reduce function takes the first two elements of the list, 47 and 11, and applies the addition operation to them.\n",
        "\n",
        "Code\n",
        "\n",
        "    47 + 11 = 58\n",
        "\n",
        "First Iteration: The result from the previous step, 58, is then combined with the next element in the list, 42, using the addition operation.\n",
        "Code\n",
        "\n",
        "    58 + 42 = 100\n",
        "\n",
        "Second Iteration: The new accumulated result, 100, is then combined with the final element in the list, 13, using the addition operation.\n",
        "Code\n",
        "\n",
        "    100 + 13 = 113\n",
        "\n",
        "Final Result: Since there are no more elements in the list, the reduce function returns the final accumulated value, 113.\n",
        "This process effectively simulates a left-to-right accumulation, where the result of each step becomes the first argument for the next application of the function.\n",
        "\n",
        "\n",
        "\n"
      ],
      "metadata": {
        "id": "3QjM4EkuhX5B"
      }
    },
    {
      "cell_type": "code",
      "source": [
        "# write a python function that takes a list of numbers as input and returns the sum of all even numbers in the list .\n",
        "def sum_even_numbers(numbers):\n",
        "    even_sum = 0\n",
        "    for num in numbers:\n",
        "        if num % 2 == 0:\n",
        "            even_sum += num\n",
        "    return even_sum"
      ],
      "metadata": {
        "id": "kHXlppOx2xbX"
      },
      "execution_count": null,
      "outputs": []
    },
    {
      "cell_type": "code",
      "source": [
        "# create a python function that accepts a string and returns the reverse of that string .\n",
        "def reverse_string(string):\n",
        "    return string[::-1]"
      ],
      "metadata": {
        "id": "hJjLYUs52xYf"
      },
      "execution_count": null,
      "outputs": []
    },
    {
      "cell_type": "code",
      "source": [
        "# Implement a python function that takes a list of integers and returns a new list containing the squares of each number .\n",
        "def square_numbers(numbers):\n",
        "    squared_numbers = [num ** 2 for num in numbers]\n",
        "    return squared_numbers"
      ],
      "metadata": {
        "id": "80cCJRIl2xV5"
      },
      "execution_count": null,
      "outputs": []
    },
    {
      "cell_type": "code",
      "source": [
        "# write a python function that checks if a given number is prime or not from 1 to 200.\n",
        "def is_prime(number):\n",
        "    if number <= 1:\n",
        "        return False\n",
        "    if number <= 3:\n",
        "        return True\n",
        "    if number % 2 == 0 or number % 3 == 0:\n",
        "        return False"
      ],
      "metadata": {
        "id": "Jm8Kw0ip2xTT"
      },
      "execution_count": null,
      "outputs": []
    },
    {
      "cell_type": "code",
      "source": [
        "# create a iterator class in python that generates the fibonacci sequence upto a specified number of terms .\n",
        "class FibonacciIterator:\n",
        "    def __init__(self, n):\n",
        "        self.n = n\n",
        "        self.a, self.b = 0, 1"
      ],
      "metadata": {
        "id": "DZjgUviZ2xQs"
      },
      "execution_count": null,
      "outputs": []
    },
    {
      "cell_type": "code",
      "source": [
        "# write a generator function in python that yields the powers of 2 upto a given exponent .\n",
        "def power_of_two_generator(n):\n",
        "    power = 0\n",
        "    while power <= n:\n",
        "        yield 2 ** power\n",
        "        power += 1"
      ],
      "metadata": {
        "id": "_RoqD-wW2xN2"
      },
      "execution_count": null,
      "outputs": []
    },
    {
      "cell_type": "code",
      "source": [
        "# Implement a generator function that reads a file line by line and yields each line as string .\n",
        "def read_file_lines(file_path):\n",
        "    with open(file_path, 'r') as file:\n",
        "        for line in file:\n",
        "            yield line.strip()"
      ],
      "metadata": {
        "id": "21hYGXdA2xKh"
      },
      "execution_count": null,
      "outputs": []
    },
    {
      "cell_type": "code",
      "source": [
        "# Use a lamda function in python to sort a list of tuples based on second elements of each tuple\n",
        "data = [('Sachin Tendulkar', 34357), ('Ricky Ponting', 27483), ('Jack Kallis', 25534), ('Virat Kohli', 24936)]"
      ],
      "metadata": {
        "id": "8wprthuM2xBv"
      },
      "execution_count": null,
      "outputs": []
    },
    {
      "cell_type": "code",
      "source": [
        "# write a python program that uses map() to convert a list of temperatures from celsius to fahrenheit\n",
        "celsius_temperatures = [0, 10, 20, 30, 40]\n",
        "fahrenheit_temperatures = list(map(lambda c: (c * 9/5) + 32, celsius_temperatures))\n"
      ],
      "metadata": {
        "id": "6nSdArtb2w2Y"
      },
      "execution_count": null,
      "outputs": []
    },
    {
      "cell_type": "code",
      "source": [
        "# create a python program that uses the 'filter' to remove all the vowels from a given string .\n",
        "def remove_vowels(string):\n",
        "    vowels = 'aeiouAEIOU'\n",
        "    return ''.join(filter(lambda char: char not in vowels, string))"
      ],
      "metadata": {
        "id": "F5rJqt1R6A7F"
      },
      "execution_count": null,
      "outputs": []
    },
    {
      "cell_type": "code",
      "source": [],
      "metadata": {
        "id": "1DgMFS_N6A1C"
      },
      "execution_count": null,
      "outputs": []
    },
    {
      "cell_type": "markdown",
      "source": [],
      "metadata": {
        "id": "tVkjrOnuhX1q"
      }
    },
    {
      "cell_type": "markdown",
      "source": [],
      "metadata": {
        "id": "iSfy3RLLhXx9"
      }
    },
    {
      "cell_type": "markdown",
      "source": [],
      "metadata": {
        "id": "8wGyWoCChXpC"
      }
    },
    {
      "cell_type": "markdown",
      "source": [],
      "metadata": {
        "id": "2JsQH9nQhXde"
      }
    },
    {
      "cell_type": "code",
      "execution_count": null,
      "metadata": {
        "id": "8z2jzOfMhD28"
      },
      "outputs": [],
      "source": []
    }
  ]
}